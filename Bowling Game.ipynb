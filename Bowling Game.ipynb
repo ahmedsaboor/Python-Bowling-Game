{
 "cells": [
  {
   "cell_type": "markdown",
   "metadata": {},
   "source": [
    "# Assignment 6"
   ]
  },
  {
   "cell_type": "code",
   "execution_count": 2,
   "metadata": {},
   "outputs": [
    {
     "name": "stdin",
     "output_type": "stream",
     "text": [
      "How many Players?  2\n"
     ]
    },
    {
     "name": "stdout",
     "output_type": "stream",
     "text": [
      "\n"
     ]
    },
    {
     "name": "stdin",
     "output_type": "stream",
     "text": [
      " Enter the name of player 1 :  a\n",
      " Enter the name of player 2 :  c\n"
     ]
    },
    {
     "name": "stdout",
     "output_type": "stream",
     "text": [
      "\n",
      "The players are :  ['a', 'c']\n",
      "\n",
      "ROUND 1 : \n",
      "    a  :  4 0\n",
      "    c  :  8 2\n",
      "\n",
      "ROUND 2 : \n",
      "    a  :  9 0\n",
      "    c  :  7 3\n",
      "\n",
      "ROUND 3 : \n",
      "    a  :  7 0\n",
      "    c  :  5 3\n",
      "\n",
      "ROUND 4 : \n",
      "    a  :  5 3\n",
      "    c  :  8 0\n",
      "\n",
      "ROUND 5 : \n",
      "    a  :  1 6\n",
      "    c  :  4 2\n",
      "\n",
      "ROUND 6 : \n",
      "    a  :  6 2\n",
      "    c  :  9 1\n",
      "\n",
      "ROUND 7 : \n",
      "    a  :  0 2\n",
      "    c  :  1 7\n",
      "\n",
      "ROUND 8 : \n",
      "    a  :  1 3\n",
      "    c  :  8 1\n",
      "\n",
      "ROUND 9 : \n",
      "    a  :  4 1\n",
      "    c  :  0 5\n",
      "\n",
      "ROUND 10 : \n",
      "    a  :  10 0\n",
      "    c  :  1 3\n"
     ]
    }
   ],
   "source": [
    "import random\n",
    "players = [];\n",
    "nump = int(input(\"How many Players? \"))\n",
    "print()\n",
    "\n",
    "for i in range(0,nump):\n",
    "    player=str(input(\" Enter the name of player {} : \".format(i+1)))    \n",
    "    players.append(player)  \n",
    "print()\n",
    "print(\"The players are : \", players)\n",
    "\n",
    "def turn():    \n",
    "    firstRoll = random.randint(0,10)   \n",
    "    if firstRoll == 10:\n",
    "        secondRoll = 0\n",
    "    if firstRoll !=10:\n",
    "        secondRoll = random.randint(0,10-firstRoll)       \n",
    "    return firstRoll, secondRoll\n",
    "\n",
    "\n",
    "scoreFile = open(\"as6.txt\",\"w\")\n",
    "for totalround in range(0,10):\n",
    "    print()\n",
    "    print(\"ROUND {} : \".format(totalround+1))    \n",
    "    for i in range(0,nump):\n",
    "        roll1,roll2=turn()\n",
    "        print(\"   \" ,players[i], \" : \", roll1,roll2)\n",
    "        scoreFile.write('\\n' + players[i])        \n",
    "scoreFile.close()"
   ]
  },
  {
   "cell_type": "code",
   "execution_count": null,
   "metadata": {},
   "outputs": [],
   "source": []
  },
  {
   "cell_type": "code",
   "execution_count": null,
   "metadata": {},
   "outputs": [],
   "source": [
    "\n",
    "        \n"
   ]
  },
  {
   "cell_type": "code",
   "execution_count": null,
   "metadata": {},
   "outputs": [],
   "source": []
  },
  {
   "cell_type": "code",
   "execution_count": null,
   "metadata": {},
   "outputs": [],
   "source": []
  },
  {
   "cell_type": "code",
   "execution_count": null,
   "metadata": {},
   "outputs": [],
   "source": []
  }
 ],
 "metadata": {
  "kernelspec": {
   "display_name": "Python 3",
   "language": "python",
   "name": "python3"
  },
  "language_info": {
   "codemirror_mode": {
    "name": "ipython",
    "version": 3
   },
   "file_extension": ".py",
   "mimetype": "text/x-python",
   "name": "python",
   "nbconvert_exporter": "python",
   "pygments_lexer": "ipython3",
   "version": "3.8.3"
  }
 },
 "nbformat": 4,
 "nbformat_minor": 4
}
